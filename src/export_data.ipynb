{
 "cells": [
  {
   "cell_type": "markdown",
   "id": "5c7ebb42-e74b-4d39-a5d4-2a50cd2fcfe0",
   "metadata": {},
   "source": [
    "## How to interact pandas with SQL queries."
   ]
  },
  {
   "cell_type": "code",
   "execution_count": 22,
   "id": "f2d8083a-02e4-48f6-aad1-b24f3a7d85f5",
   "metadata": {},
   "outputs": [],
   "source": [
    "import psycopg2\n",
    "import os\n",
    "from dotenv import load_dotenv\n",
    "import datetime\n",
    "import pandas as pd"
   ]
  },
  {
   "cell_type": "code",
   "execution_count": 23,
   "id": "b15590b6-e981-4885-b66a-92a1df248e1d",
   "metadata": {},
   "outputs": [
    {
     "data": {
      "text/plain": [
       "True"
      ]
     },
     "execution_count": 23,
     "metadata": {},
     "output_type": "execute_result"
    }
   ],
   "source": [
    "load_dotenv()"
   ]
  },
  {
   "cell_type": "code",
   "execution_count": 24,
   "id": "11915a58-62f0-4b6a-a1b0-2fe92bed90ed",
   "metadata": {},
   "outputs": [],
   "source": [
    "credentials = {\n",
    "    \"user\": os.environ.get(\"DB_USER\"),\n",
    "    \"host\": os.environ.get(\"DB_HOST\"),\n",
    "    \"db\": os.environ.get(\"DB_DATABASE\"),\n",
    "    \"password\": os.environ.get(\"DB_PASSWORD\"),\n",
    "    \"port\": os.environ.get(\"DB_PORT\"),\n",
    "}"
   ]
  },
  {
   "cell_type": "code",
   "execution_count": 25,
   "id": "c7a484d9-6829-4e7d-b5ba-3a8cc6129c3a",
   "metadata": {},
   "outputs": [],
   "source": [
    "def export_connection() -> psycopg2.extensions.connection:\n",
    "    try:\n",
    "        connection = psycopg2.connect(\n",
    "            user=credentials[\"user\"],\n",
    "            host=credentials[\"host\"],\n",
    "            password=credentials[\"password\"],\n",
    "            port=credentials[\"port\"],\n",
    "            database=credentials[\"db\"],\n",
    "        )\n",
    "        return connection\n",
    "    except (Exception, psycopg2.Error) as error:\n",
    "        print(\"Error while connect to postgresql\", error)"
   ]
  },
  {
   "cell_type": "code",
   "execution_count": 26,
   "id": "df6531a0-62b8-492b-9eeb-df911ce1aa3d",
   "metadata": {},
   "outputs": [],
   "source": [
    "connection = export_connection()"
   ]
  },
  {
   "cell_type": "code",
   "execution_count": 27,
   "id": "1a15cf72-1835-4919-ae0f-6541d8f761c6",
   "metadata": {},
   "outputs": [],
   "source": [
    "query = \"SELECT * FROM users_shop\""
   ]
  },
  {
   "cell_type": "code",
   "execution_count": 28,
   "id": "83e4aac3-d03d-4a51-aefa-216ce72a84e5",
   "metadata": {},
   "outputs": [],
   "source": [
    "rows = []\n",
    "with connection as con:\n",
    "    cursor = connection.cursor()\n",
    "    cursor.execute(query)\n",
    "    rows = cursor.fetchall()"
   ]
  },
  {
   "cell_type": "code",
   "execution_count": 29,
   "id": "a4dd967c-b078-4cb7-a527-0e8eaec9b751",
   "metadata": {},
   "outputs": [],
   "source": [
    "df = pd.DataFrame(\n",
    "    rows, columns=[\"user_id\", \"user_name\", \"user_cpf\", \"created_at\", \"updated_at\"]\n",
    ")"
   ]
  },
  {
   "cell_type": "markdown",
   "id": "afbcc209-044c-40e1-aa6a-08b016d51c2a",
   "metadata": {},
   "source": [
    "## Getting how many users there are."
   ]
  },
  {
   "cell_type": "code",
   "execution_count": 30,
   "id": "83da02b8-6fde-427d-8973-3aabf695eff9",
   "metadata": {},
   "outputs": [],
   "source": [
    "number_users = df[\"user_id\"].count()"
   ]
  },
  {
   "cell_type": "code",
   "execution_count": 31,
   "id": "d59c6ca7-1a4d-45c7-a71c-979e386118b1",
   "metadata": {},
   "outputs": [
    {
     "data": {
      "text/plain": [
       "2"
      ]
     },
     "execution_count": 31,
     "metadata": {},
     "output_type": "execute_result"
    }
   ],
   "source": [
    "number_users"
   ]
  }
 ],
 "metadata": {
  "kernelspec": {
   "display_name": "Python 3 (ipykernel)",
   "language": "python",
   "name": "python3"
  },
  "language_info": {
   "codemirror_mode": {
    "name": "ipython",
    "version": 3
   },
   "file_extension": ".py",
   "mimetype": "text/x-python",
   "name": "python",
   "nbconvert_exporter": "python",
   "pygments_lexer": "ipython3",
   "version": "3.10.6"
  }
 },
 "nbformat": 4,
 "nbformat_minor": 5
}
