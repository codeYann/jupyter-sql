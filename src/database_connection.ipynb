{
 "cells": [
  {
   "cell_type": "markdown",
   "id": "aa1be275-144d-45ec-9f4f-3d786806875a",
   "metadata": {},
   "source": [
    "## How to use python to connect a database using pyscopg2 "
   ]
  },
  {
   "cell_type": "code",
   "execution_count": 1,
   "id": "eef89acb-91ae-46eb-88e4-844bd9782006",
   "metadata": {},
   "outputs": [],
   "source": [
    "import psycopg2\n",
    "import os\n",
    "from dotenv import (\n",
    "    load_dotenv,\n",
    ")  # Importando a lib dotenv pra carregar informações sensíveis pelo arquivo .env\n",
    "import datetime  # Trabalhando com datas (*) Alguns campos do banco vão precisar."
   ]
  },
  {
   "cell_type": "code",
   "execution_count": 2,
   "id": "c33c9ffe-b3f7-4f70-97ac-982eef938b91",
   "metadata": {},
   "outputs": [
    {
     "data": {
      "text/plain": [
       "True"
      ]
     },
     "execution_count": 2,
     "metadata": {},
     "output_type": "execute_result"
    }
   ],
   "source": [
    "load_dotenv()  # Carregando as informações do arquivo .env"
   ]
  },
  {
   "cell_type": "markdown",
   "id": "21961690-a3de-452b-bf7b-edf0452a0e4b",
   "metadata": {},
   "source": [
    "### Definindo a estrutura para armazenar as informações do arquivo .env"
   ]
  },
  {
   "cell_type": "code",
   "execution_count": 6,
   "id": "8a46b7ce-f500-4628-bfda-84ddd60f9d4c",
   "metadata": {},
   "outputs": [],
   "source": [
    "credentials = {\n",
    "    \"user\": os.environ.get(\"DB_USER\"),\n",
    "    \"host\": os.environ.get(\"DB_HOST\"),\n",
    "    \"db\": os.environ.get(\"DB_DATABASE\"),\n",
    "    \"password\": os.environ.get(\"DB_PASSWORD\"),\n",
    "    \"port\": os.environ.get(\"DB_PORT\"),\n",
    "}"
   ]
  },
  {
   "cell_type": "markdown",
   "id": "3a2e790f-6265-4082-ae01-7d7fa95d777d",
   "metadata": {},
   "source": [
    "### Função para estabelecer toda a conexação com o banco de dados"
   ]
  },
  {
   "cell_type": "code",
   "execution_count": 7,
   "id": "fd5f7c85-28ba-4cef-9736-34afd5c6f1bf",
   "metadata": {},
   "outputs": [],
   "source": [
    "def get_connection() -> psycopg2.extensions.connection:\n",
    "    \"\"\"A função get_connection retorna uma instância de conexão com o banco de dados\n",
    "    Utilizando o dicionário credentials para receber os parâmetros necessários.\n",
    "    Caso haja algum erro ao estabelecer a conexão, uma Exception é disparada.\n",
    "    \"\"\"\n",
    "    try:\n",
    "        connection = psycopg2.connect(\n",
    "            user=credentials[\"user\"],\n",
    "            host=credentials[\"host\"],\n",
    "            password=credentials[\"password\"],\n",
    "            port=credentials[\"port\"],\n",
    "            database=credentials[\"db\"],\n",
    "        )\n",
    "        return connection\n",
    "    except (Exception, psycopg2.Error) as error:\n",
    "        print(\"Error while connect to postgresql\", error)"
   ]
  },
  {
   "cell_type": "code",
   "execution_count": 8,
   "id": "d9f3dc04-ea96-4011-b56c-da3283b011c9",
   "metadata": {},
   "outputs": [],
   "source": [
    "connection = get_connection()"
   ]
  },
  {
   "cell_type": "markdown",
   "id": "b427dc16-ea5a-4798-84af-8b8c6429b2f9",
   "metadata": {},
   "source": [
    "### Usando o context manager para lidar com consultas SQL"
   ]
  },
  {
   "cell_type": "code",
   "execution_count": 11,
   "id": "72bf5adc-f517-4cb0-8758-f69c642aad0f",
   "metadata": {},
   "outputs": [
    {
     "name": "stdout",
     "output_type": "stream",
     "text": [
      "(1, 'Yan Rodrigues', '008.821.293-17', datetime.datetime(2023, 1, 12, 16, 2, 24, 368170), datetime.datetime(2023, 1, 12, 16, 2, 24, 368170))\n",
      "(2, 'Alanderson rock hands', '007.009.008-10', datetime.datetime(2023, 1, 12, 16, 7, 9, 767632), datetime.datetime(2023, 1, 12, 16, 7, 9, 767632))\n"
     ]
    }
   ],
   "source": [
    "with connection as con:\n",
    "    cursor = con.cursor()\n",
    "    cursor.execute(\"SELECT * FROM users_shop\")\n",
    "    rows = cursor.fetchall()\n",
    "    for row in rows:\n",
    "        print(row)"
   ]
  }
 ],
 "metadata": {
  "kernelspec": {
   "display_name": "Python 3 (ipykernel)",
   "language": "python",
   "name": "python3"
  },
  "language_info": {
   "codemirror_mode": {
    "name": "ipython",
    "version": 3
   },
   "file_extension": ".py",
   "mimetype": "text/x-python",
   "name": "python",
   "nbconvert_exporter": "python",
   "pygments_lexer": "ipython3",
   "version": "3.10.6"
  }
 },
 "nbformat": 4,
 "nbformat_minor": 5
}
