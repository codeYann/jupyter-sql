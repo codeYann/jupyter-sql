{
 "cells": [
  {
   "cell_type": "code",
   "execution_count": 1,
   "id": "992d71fa-5990-4be1-b85b-337808f18d38",
   "metadata": {},
   "outputs": [],
   "source": [
    "import csv\n",
    "import pandas as pd\n",
    "from typing import Generator"
   ]
  },
  {
   "cell_type": "code",
   "execution_count": 2,
   "id": "531796fb-430e-4262-a3b1-416b07426693",
   "metadata": {},
   "outputs": [],
   "source": [
    "def read_csv_chunk(\n",
    "    file: str, chunk_size=1024\n",
    ") -> Generator[pd.core.frame.DataFrame, None, None]:\n",
    "    while True:\n",
    "        chunk = pd.read_csv(file, chunksize=chunk_size)\n",
    "        yield from chunk\n",
    "\n",
    "\n",
    "chunk = read_csv_chunk(\"./datasets/meteorite_landings.csv\")\n",
    "result = next(chunk)"
   ]
  },
  {
   "cell_type": "code",
   "execution_count": 3,
   "id": "96798315-58cb-415a-83d4-94965741ffdd",
   "metadata": {},
   "outputs": [
    {
     "data": {
      "text/plain": [
       "pandas.core.frame.DataFrame"
      ]
     },
     "execution_count": 3,
     "metadata": {},
     "output_type": "execute_result"
    }
   ],
   "source": [
    "type(result)"
   ]
  },
  {
   "cell_type": "code",
   "execution_count": null,
   "id": "8941f7b8-19e0-4767-b044-8cfdb1864b0b",
   "metadata": {},
   "outputs": [],
   "source": []
  }
 ],
 "metadata": {
  "kernelspec": {
   "display_name": "Python 3 (ipykernel)",
   "language": "python",
   "name": "python3"
  },
  "language_info": {
   "codemirror_mode": {
    "name": "ipython",
    "version": 3
   },
   "file_extension": ".py",
   "mimetype": "text/x-python",
   "name": "python",
   "nbconvert_exporter": "python",
   "pygments_lexer": "ipython3",
   "version": "3.10.6"
  }
 },
 "nbformat": 4,
 "nbformat_minor": 5
}
