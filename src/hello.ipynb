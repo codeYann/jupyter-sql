{
 "cells": [
  {
   "cell_type": "code",
   "execution_count": 2,
   "id": "f2a7085b-4a43-4f6f-8455-560184e166ed",
   "metadata": {},
   "outputs": [
    {
     "name": "stdout",
     "output_type": "stream",
     "text": [
      "Hello, World! ㌡\n"
     ]
    }
   ],
   "source": [
    "print(\"Hello, World! \\u3321\")"
   ]
  },
  {
   "cell_type": "code",
   "execution_count": null,
   "id": "f71dcd44-fb3e-4b26-9737-b38ce6d76297",
   "metadata": {},
   "outputs": [],
   "source": []
  }
 ],
 "metadata": {
  "kernelspec": {
   "display_name": "Python 3 (ipykernel)",
   "language": "python",
   "name": "python3"
  },
  "language_info": {
   "codemirror_mode": {
    "name": "ipython",
    "version": 3
   },
   "file_extension": ".py",
   "mimetype": "text/x-python",
   "name": "python",
   "nbconvert_exporter": "python",
   "pygments_lexer": "ipython3",
   "version": "3.10.6"
  }
 },
 "nbformat": 4,
 "nbformat_minor": 5
}
